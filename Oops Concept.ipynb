{
 "cells": [
  {
   "cell_type": "markdown",
   "id": "88d72f6a-13ab-4291-a3b5-42af2662c7bd",
   "metadata": {},
   "source": [
    "#### Oject Oriented Programming "
   ]
  },
  {
   "cell_type": "code",
   "execution_count": 3,
   "id": "8c6dc76a-9563-4cf8-bab6-8019ade3dcaa",
   "metadata": {},
   "outputs": [],
   "source": [
    "##CLASS----1.Hight level classificaton of real world entity(eg, person, animal, car )\n",
    "     #----2.class is user defined blue print or protype from which object are created.\n",
    "     #----3. classes provide  n means of bunding data and functionalyyt together."
   ]
  },
  {
   "cell_type": "code",
   "execution_count": 4,
   "id": "e48580e2-e38a-4572-a2f1-062017f457b9",
   "metadata": {},
   "outputs": [],
   "source": [
    "##Oject----Just a variable to store values. \n",
    "           # Its is instance of a class.\n",
    "          # An object is a simply a collection of data and method that act on these data.\n"
   ]
  },
  {
   "cell_type": "code",
   "execution_count": 5,
   "id": "404616e7-37e0-4ff8-a721-9d0cf65da5e7",
   "metadata": {},
   "outputs": [
    {
     "name": "stdout",
     "output_type": "stream",
     "text": [
      "<class 'int'>\n"
     ]
    }
   ],
   "source": [
    "salary=80000\n",
    "salary\n",
    "print\n",
    "print(type(salary))# python is own develop by oops concept"
   ]
  },
  {
   "cell_type": "code",
   "execution_count": 6,
   "id": "5000c46f-1268-4606-8054-384d48573109",
   "metadata": {},
   "outputs": [
    {
     "ename": "SyntaxError",
     "evalue": "incomplete input (3527747674.py, line 1)",
     "output_type": "error",
     "traceback": [
      "\u001b[1;36m  Cell \u001b[1;32mIn[6], line 1\u001b[1;36m\u001b[0m\n\u001b[1;33m    class test:\u001b[0m\n\u001b[1;37m               ^\u001b[0m\n\u001b[1;31mSyntaxError\u001b[0m\u001b[1;31m:\u001b[0m incomplete input\n"
     ]
    }
   ],
   "source": [
    "class test:"
   ]
  },
  {
   "cell_type": "code",
   "execution_count": null,
   "id": "6445afa2-165a-4407-9fb4-fa36046016cf",
   "metadata": {},
   "outputs": [],
   "source": [
    "## Pass--- ia null statement.The interper doesn't ignore a pass statement but anaythi ghappens and statement result into no operation.\n",
    "    # ----- The pass is usefull when you don't write the influenaation of function but you want to implement in the future."
   ]
  },
  {
   "cell_type": "code",
   "execution_count": null,
   "id": "d6e6503b-d153-4615-80ad-2e26406eeeef",
   "metadata": {},
   "outputs": [],
   "source": [
    "class test:\n",
    "    pass# don't do anything but don't show error"
   ]
  },
  {
   "cell_type": "code",
   "execution_count": null,
   "id": "5fcc8976-1c0f-4bce-b2e7-b3272b3285a6",
   "metadata": {},
   "outputs": [],
   "source": [
    "\n",
    "class person:\n",
    "    pass"
   ]
  },
  {
   "cell_type": "code",
   "execution_count": null,
   "id": "eaad23b9-d9ac-4c31-98dc-d1bda3001236",
   "metadata": {},
   "outputs": [],
   "source": [
    "p1=person()# its a object "
   ]
  },
  {
   "cell_type": "code",
   "execution_count": null,
   "id": "9071bd8a-cead-4a61-bc0f-c2f2c166975b",
   "metadata": {},
   "outputs": [],
   "source": [
    "p1   #(Memory allocation return )"
   ]
  },
  {
   "cell_type": "code",
   "execution_count": null,
   "id": "c59d57e8-6315-44ee-b9f8-235e59568ccd",
   "metadata": {},
   "outputs": [],
   "source": [
    "print(type(p1))"
   ]
  },
  {
   "cell_type": "code",
   "execution_count": null,
   "id": "cdb10947-d954-4444-bf49-e1ba5a22cd1a",
   "metadata": {},
   "outputs": [],
   "source": [
    "p1.name='Rahul'\n",
    "p1.surname='Dravid'\n",
    "p1.yob=457332"
   ]
  },
  {
   "cell_type": "code",
   "execution_count": null,
   "id": "71a279c8-e92e-42d6-8373-1b3a066983c2",
   "metadata": {},
   "outputs": [],
   "source": [
    "p1.name"
   ]
  },
  {
   "cell_type": "code",
   "execution_count": null,
   "id": "b94fe0eb-8df9-44ec-b524-e10222560b2b",
   "metadata": {},
   "outputs": [],
   "source": [
    "type(p1.name)"
   ]
  },
  {
   "cell_type": "code",
   "execution_count": 16,
   "id": "fdf08a3e-6236-499b-9814-f5f532c04628",
   "metadata": {},
   "outputs": [
    {
     "ename": "NameError",
     "evalue": "name 'p1' is not defined",
     "output_type": "error",
     "traceback": [
      "\u001b[1;31m---------------------------------------------------------------------------\u001b[0m",
      "\u001b[1;31mNameError\u001b[0m                                 Traceback (most recent call last)",
      "Cell \u001b[1;32mIn[16], line 1\u001b[0m\n\u001b[1;32m----> 1\u001b[0m \u001b[38;5;28mprint\u001b[39m(p1)\n",
      "\u001b[1;31mNameError\u001b[0m: name 'p1' is not defined"
     ]
    }
   ],
   "source": [
    "print(p1)"
   ]
  },
  {
   "cell_type": "code",
   "execution_count": 18,
   "id": "65f5d6d8-200d-464b-aec7-7156ae5a41d0",
   "metadata": {},
   "outputs": [],
   "source": [
    "## Self---- the self is reference of current instance of the class and is used to access variable that belong to the class."
   ]
  },
  {
   "cell_type": "code",
   "execution_count": 20,
   "id": "4678023f-6e89-4780-ba55-1e983df01a58",
   "metadata": {},
   "outputs": [],
   "source": [
    "class person2:\n",
    "    #Self is the references pointer to the variable\n",
    "    def __init__(self,name,surname,yob):\n",
    "        self.name=name\n",
    "        self.surname=surname\n",
    "        self.yob=yob"
   ]
  },
  {
   "cell_type": "code",
   "execution_count": 22,
   "id": "53881719-f245-4817-88a0-7f5c9299139e",
   "metadata": {},
   "outputs": [
    {
     "ename": "TypeError",
     "evalue": "person2.__init__() missing 3 required positional arguments: 'name', 'surname', and 'yob'",
     "output_type": "error",
     "traceback": [
      "\u001b[1;31m---------------------------------------------------------------------------\u001b[0m",
      "\u001b[1;31mTypeError\u001b[0m                                 Traceback (most recent call last)",
      "Cell \u001b[1;32mIn[22], line 1\u001b[0m\n\u001b[1;32m----> 1\u001b[0m p2\u001b[38;5;241m=\u001b[39mperson2()\n",
      "\u001b[1;31mTypeError\u001b[0m: person2.__init__() missing 3 required positional arguments: 'name', 'surname', and 'yob'"
     ]
    }
   ],
   "source": [
    "p2=person2()"
   ]
  },
  {
   "cell_type": "code",
   "execution_count": 24,
   "id": "0b1fd760-81bc-4231-a4a8-419d87bb7e9b",
   "metadata": {},
   "outputs": [],
   "source": [
    "p2=person2('raju','ram',45678) "
   ]
  },
  {
   "cell_type": "code",
   "execution_count": 26,
   "id": "12ab0457-3ace-442d-99ed-bc9e84027efc",
   "metadata": {},
   "outputs": [],
   "source": [
    "#__init__= initialiszation "
   ]
  },
  {
   "cell_type": "code",
   "execution_count": 28,
   "id": "d8db837b-88c0-43ed-95b8-75f43c501c80",
   "metadata": {},
   "outputs": [],
   "source": [
    "class person3:\n",
    "    def __init__(self,name,surname,yob):\n",
    "        self.name3=name\n",
    "        self.surname3=surname\n",
    "        self.yob3=yob"
   ]
  },
  {
   "cell_type": "code",
   "execution_count": 30,
   "id": "185ab659-d571-45dc-aae5-dea8f14ed853",
   "metadata": {},
   "outputs": [],
   "source": [
    "p3=person3('Jagruti','nanepag',23)"
   ]
  },
  {
   "cell_type": "code",
   "execution_count": 32,
   "id": "cccfa3bb-d0e1-418b-bcb2-058fc7a4a231",
   "metadata": {},
   "outputs": [
    {
     "data": {
      "text/plain": [
       "'nanepag'"
      ]
     },
     "execution_count": 32,
     "metadata": {},
     "output_type": "execute_result"
    }
   ],
   "source": [
    "p3.surname3"
   ]
  },
  {
   "cell_type": "code",
   "execution_count": 34,
   "id": "d853621c-54b4-4b04-a132-402d60015f71",
   "metadata": {},
   "outputs": [],
   "source": [
    "class person4:\n",
    "    def __init__(self,name,surname,yob):\n",
    "        self.name=name\n",
    "        self.surname=surname\n",
    "        self.yob=yob\n",
    "    def test(self,m,n):\n",
    "        return m+n      "
   ]
  },
  {
   "cell_type": "code",
   "execution_count": 36,
   "id": "5997fd10-8494-4cfc-b42b-8ad0581d4027",
   "metadata": {},
   "outputs": [],
   "source": [
    "p4=person4('abc','xyz',56) #__init__ it always called when an object is created"
   ]
  },
  {
   "cell_type": "code",
   "execution_count": 38,
   "id": "7ffb84de-a0a6-4e2e-a972-43edaa0410ea",
   "metadata": {},
   "outputs": [
    {
     "data": {
      "text/plain": [
       "7"
      ]
     },
     "execution_count": 38,
     "metadata": {},
     "output_type": "execute_result"
    }
   ],
   "source": [
    "p4.test(3,4)"
   ]
  },
  {
   "cell_type": "code",
   "execution_count": 40,
   "id": "04ef92b5-e769-425c-8e0e-272de2c4af06",
   "metadata": {},
   "outputs": [],
   "source": [
    "class person5:\n",
    "    def __init__(self,name,surname,yob):\n",
    "        self.name=name\n",
    "        self.surname=surname\n",
    "        self.yob=yob\n",
    "    def test(self,m,n):\n",
    "        return m+n+yob "
   ]
  },
  {
   "cell_type": "code",
   "execution_count": 42,
   "id": "9c805724-1c87-412a-9097-8192467104a0",
   "metadata": {},
   "outputs": [],
   "source": [
    "p5=person5('abc','xy',5)"
   ]
  },
  {
   "cell_type": "code",
   "execution_count": 44,
   "id": "50da7759-e333-4bc0-93d8-135669e355c0",
   "metadata": {},
   "outputs": [
    {
     "data": {
      "text/plain": [
       "5"
      ]
     },
     "execution_count": 44,
     "metadata": {},
     "output_type": "execute_result"
    }
   ],
   "source": [
    "p5.yob"
   ]
  },
  {
   "cell_type": "code",
   "execution_count": 46,
   "id": "6308bd16-0ff2-419b-b8d8-e221fcc759e9",
   "metadata": {},
   "outputs": [
    {
     "ename": "NameError",
     "evalue": "name 'yob' is not defined",
     "output_type": "error",
     "traceback": [
      "\u001b[1;31m---------------------------------------------------------------------------\u001b[0m",
      "\u001b[1;31mNameError\u001b[0m                                 Traceback (most recent call last)",
      "Cell \u001b[1;32mIn[46], line 1\u001b[0m\n\u001b[1;32m----> 1\u001b[0m p5\u001b[38;5;241m.\u001b[39mtest(\u001b[38;5;241m5\u001b[39m,\u001b[38;5;241m5\u001b[39m)\n",
      "Cell \u001b[1;32mIn[40], line 7\u001b[0m, in \u001b[0;36mperson5.test\u001b[1;34m(self, m, n)\u001b[0m\n\u001b[0;32m      6\u001b[0m \u001b[38;5;28;01mdef\u001b[39;00m \u001b[38;5;21mtest\u001b[39m(\u001b[38;5;28mself\u001b[39m,m,n):\n\u001b[1;32m----> 7\u001b[0m     \u001b[38;5;28;01mreturn\u001b[39;00m m\u001b[38;5;241m+\u001b[39mn\u001b[38;5;241m+\u001b[39myob\n",
      "\u001b[1;31mNameError\u001b[0m: name 'yob' is not defined"
     ]
    }
   ],
   "source": [
    "p5.test(5,5)"
   ]
  },
  {
   "cell_type": "code",
   "execution_count": 48,
   "id": "1e94929a-c1cb-46e2-b542-44b7d6cfb2bc",
   "metadata": {},
   "outputs": [],
   "source": [
    "class person5:\n",
    "    def __init__(self,name,surname,yob):\n",
    "        self.name=name\n",
    "        self.surname=surname\n",
    "        self.yob=yob\n",
    "    def test(self,m,n):\n",
    "        return m+n+ self.yob # whenever we have to acces data member or variable inside the class we should written refernce pointer first "
   ]
  },
  {
   "cell_type": "code",
   "execution_count": 50,
   "id": "251e4725-ed99-4e9e-ae53-5dfff383fa85",
   "metadata": {},
   "outputs": [],
   "source": [
    "p5_new=person5('abc','xyz',65)"
   ]
  },
  {
   "cell_type": "code",
   "execution_count": 52,
   "id": "c909f3b6-d7dd-4858-b49f-6f822e1bb20c",
   "metadata": {},
   "outputs": [
    {
     "data": {
      "text/plain": [
       "75"
      ]
     },
     "execution_count": 52,
     "metadata": {},
     "output_type": "execute_result"
    }
   ],
   "source": [
    "p5_new.test(5,5)"
   ]
  },
  {
   "cell_type": "code",
   "execution_count": 54,
   "id": "2a15af87-10c0-4f3f-824a-de4555a9e80e",
   "metadata": {},
   "outputs": [],
   "source": [
    "#__str__---- default methof or inbuilt method. Ask to written usefull string "
   ]
  },
  {
   "cell_type": "code",
   "execution_count": 56,
   "id": "6654755f-460f-4d84-b557-2b40677e368b",
   "metadata": {},
   "outputs": [],
   "source": [
    "class person5:\n",
    "    def __init__(self,name,surname,yob):\n",
    "        self.name=name\n",
    "        self.surname=surname\n",
    "        self.yob=yob\n",
    "    def test(self,m,n):\n",
    "        return m+n+ self.yob\n",
    "    def __str__(self):\n",
    "        return \"We are laearning OOPS Concepts\""
   ]
  },
  {
   "cell_type": "code",
   "execution_count": 58,
   "id": "23eef7e3-6cd0-4adc-add5-5de3c6ae9522",
   "metadata": {},
   "outputs": [],
   "source": [
    "p_new=person5('abc','xyx',33)"
   ]
  },
  {
   "cell_type": "code",
   "execution_count": 60,
   "id": "7cebf16c-9597-4cb9-9c70-8df9e537779c",
   "metadata": {},
   "outputs": [
    {
     "name": "stdout",
     "output_type": "stream",
     "text": [
      "We are laearning OOPS Concepts\n"
     ]
    }
   ],
   "source": [
    "\n",
    "print(p_new)"
   ]
  },
  {
   "cell_type": "code",
   "execution_count": 62,
   "id": "068fb97b-fd11-46f2-8baa-7040a1230086",
   "metadata": {},
   "outputs": [],
   "source": [
    "class person5:\n",
    "    def __init__(self,name,surname,yob):\n",
    "        self.name=name\n",
    "        self.surname=surname\n",
    "        self.yob=yob\n",
    "    def test(self,m,n):\n",
    "        return m+n+ self.yob\n",
    "    def __str__(self):\n",
    "        return \"%s is Name , Surname is %s & YOB is %d\" %(self.name,self.surname,self.yob)"
   ]
  },
  {
   "cell_type": "code",
   "execution_count": 64,
   "id": "c5264ab7-05a0-4ac1-938b-dd1ca01f34e3",
   "metadata": {},
   "outputs": [],
   "source": [
    "person=person5('jagga','nane',56)"
   ]
  },
  {
   "cell_type": "code",
   "execution_count": 66,
   "id": "e2a49a23-4061-483f-a4d0-8827714a96ac",
   "metadata": {},
   "outputs": [
    {
     "data": {
      "text/plain": [
       "<__main__.person5 at 0x1b8320820f0>"
      ]
     },
     "execution_count": 66,
     "metadata": {},
     "output_type": "execute_result"
    }
   ],
   "source": [
    "person"
   ]
  },
  {
   "cell_type": "code",
   "execution_count": 68,
   "id": "23bba7a7-e113-4f65-a713-e5ef8c1a59c6",
   "metadata": {},
   "outputs": [
    {
     "name": "stdout",
     "output_type": "stream",
     "text": [
      "jagga is Name , Surname is nane & YOB is 56\n"
     ]
    }
   ],
   "source": [
    "print(person)"
   ]
  },
  {
   "cell_type": "code",
   "execution_count": 70,
   "id": "2c3a58dd-ba16-4559-8cfd-d21233cc9563",
   "metadata": {},
   "outputs": [],
   "source": [
    "# Without __init__ method\n",
    "class person5:\n",
    "    def pass_name(self,name):\n",
    "        self.name=name\n",
    "    def pass_surname(self,surname):\n",
    "        self.surname=surname\n",
    "    def pass_yob(self,yob):\n",
    "        self.yob=yob"
   ]
  },
  {
   "cell_type": "code",
   "execution_count": 72,
   "id": "d51de306-9c4a-4cb9-8f66-a9c2dd27f958",
   "metadata": {},
   "outputs": [],
   "source": [
    "P5=person5() "
   ]
  },
  {
   "cell_type": "code",
   "execution_count": 74,
   "id": "a057c984-51e6-40ae-9528-d88023fb3a94",
   "metadata": {},
   "outputs": [],
   "source": [
    "P5.pass_name('sachin')"
   ]
  },
  {
   "cell_type": "code",
   "execution_count": 76,
   "id": "39e9f1cc-62c7-47ad-8caf-a41d9be3c2b1",
   "metadata": {},
   "outputs": [],
   "source": [
    "P5.pass_surname('yadav')"
   ]
  },
  {
   "cell_type": "code",
   "execution_count": 78,
   "id": "73f3e842-af6c-4fb4-8468-b958b6318020",
   "metadata": {},
   "outputs": [],
   "source": [
    "P5.pass_yob(34)"
   ]
  },
  {
   "cell_type": "code",
   "execution_count": 80,
   "id": "9a2857ba-96e4-4215-9265-9baf7c7ff3fc",
   "metadata": {},
   "outputs": [
    {
     "data": {
      "text/plain": [
       "<bound method person5.pass_name of <__main__.person5 object at 0x000001B8322FA270>>"
      ]
     },
     "execution_count": 80,
     "metadata": {},
     "output_type": "execute_result"
    }
   ],
   "source": [
    "P5.pass_name"
   ]
  },
  {
   "cell_type": "code",
   "execution_count": 82,
   "id": "a7202b1a-3456-49c2-a921-2d64da46c58a",
   "metadata": {},
   "outputs": [
    {
     "data": {
      "text/plain": [
       "'sachin'"
      ]
     },
     "execution_count": 82,
     "metadata": {},
     "output_type": "execute_result"
    }
   ],
   "source": [
    "P5.name"
   ]
  },
  {
   "cell_type": "code",
   "execution_count": 88,
   "id": "415a24a7-63f6-4b80-978a-41dc59c8f0a8",
   "metadata": {},
   "outputs": [],
   "source": [
    "#Abstractraction --- hiding the details\n",
    "# security\n",
    "# easy\n",
    "# it simiplify the enter process"
   ]
  },
  {
   "cell_type": "code",
   "execution_count": 108,
   "id": "d235ecfa-9adf-4318-91f9-f6a0c6aa0bde",
   "metadata": {},
   "outputs": [],
   "source": [
    "class person:\n",
    "    def __init__(self,name,surname,yob):\n",
    "        self.name=name #public notation\n",
    "        self._surname=surname #protected\n",
    "        self.__yob=yob #private \n",
    "    def test(self,m,n):\n",
    "        return m+n+self.__yob #(p._person__yob)\n",
    "    def __str__(self):\n",
    "        return \"%s is Name,Surname is %s & YOB is %d\"%(self.name,self._surname,self.__yob)\n",
    "        "
   ]
  },
  {
   "cell_type": "code",
   "execution_count": 110,
   "id": "675d7117-fc5d-449a-8ae1-3a995ba405cd",
   "metadata": {},
   "outputs": [
    {
     "data": {
      "text/plain": [
       "'A'"
      ]
     },
     "execution_count": 110,
     "metadata": {},
     "output_type": "execute_result"
    }
   ],
   "source": [
    "p=person('A','B',89)\n",
    "p.name"
   ]
  },
  {
   "cell_type": "code",
   "execution_count": 112,
   "id": "a89109a0-0841-4542-8310-46da2169f280",
   "metadata": {},
   "outputs": [
    {
     "data": {
      "text/plain": [
       "106"
      ]
     },
     "execution_count": 112,
     "metadata": {},
     "output_type": "execute_result"
    }
   ],
   "source": [
    "p.test(9,8)"
   ]
  },
  {
   "cell_type": "code",
   "execution_count": 114,
   "id": "89420aa0-9b76-499c-9759-752da4ebf797",
   "metadata": {},
   "outputs": [
    {
     "data": {
      "text/plain": [
       "'B'"
      ]
     },
     "execution_count": 114,
     "metadata": {},
     "output_type": "execute_result"
    }
   ],
   "source": [
    "p._surname"
   ]
  },
  {
   "cell_type": "code",
   "execution_count": 116,
   "id": "b898f922-095a-45ea-8a04-38546c163862",
   "metadata": {},
   "outputs": [
    {
     "data": {
      "text/plain": [
       "89"
      ]
     },
     "execution_count": 116,
     "metadata": {},
     "output_type": "execute_result"
    }
   ],
   "source": [
    "p._person__yob"
   ]
  },
  {
   "cell_type": "code",
   "execution_count": 118,
   "id": "2e3b1d39-ef2b-40f9-a3ba-8da2cfbd2bc2",
   "metadata": {},
   "outputs": [
    {
     "data": {
      "text/plain": [
       "<function person.__dir__()>"
      ]
     },
     "execution_count": 118,
     "metadata": {},
     "output_type": "execute_result"
    }
   ],
   "source": [
    "p.__dir__"
   ]
  },
  {
   "cell_type": "code",
   "execution_count": 62,
   "id": "e5c87209-9be2-4886-bb69-a3dffeeebfd8",
   "metadata": {},
   "outputs": [
    {
     "data": {
      "text/plain": [
       "{'name': 'A', '_surname': 'B', '_person__yob': 89}"
      ]
     },
     "execution_count": 62,
     "metadata": {},
     "output_type": "execute_result"
    }
   ],
   "source": [
    "p.__dict__"
   ]
  },
  {
   "cell_type": "code",
   "execution_count": 81,
   "id": "ae36a9f9-5cd1-49cd-91ca-0a5427d67bc1",
   "metadata": {},
   "outputs": [],
   "source": [
    "#Inheritance-----parent class or bass class--child class or dervied class(means reusability)\n",
    "class person:\n",
    "    def __init__(self,name,surname,yob):\n",
    "        self.name=name\n",
    "        self.surname=surname\n",
    "        self.yob=yob\n",
    "    def test(self,m,n):\n",
    "        return m+n+self.yob\n",
    "    def __str__(self):\n",
    "        return \"%s is Name,Surname is %s & YOB is %d\"%(self.name,self.surname,self.yob)"
   ]
  },
  {
   "cell_type": "code",
   "execution_count": 69,
   "id": "75090c83-0a16-4009-96e3-7501e96b544b",
   "metadata": {},
   "outputs": [],
   "source": [
    "#*args more arguments from the parent class\n",
    "class student(person):\n",
    "    def __init__(self,roll_no,college_name,*args):\n",
    "        super(student,self).__init__(*args)\n",
    "        self.roll_no=roll_no\n",
    "        self.college_name=college_name       "
   ]
  },
  {
   "cell_type": "code",
   "execution_count": 77,
   "id": "cc7b0d85-74ce-4040-a87e-bb9f8db23b7a",
   "metadata": {},
   "outputs": [],
   "source": [
    "s1=student(12,'abc','a','g',7)"
   ]
  },
  {
   "cell_type": "code",
   "execution_count": 79,
   "id": "f5d1091b-4935-498d-9105-d0cfb2987427",
   "metadata": {},
   "outputs": [
    {
     "data": {
      "text/plain": [
       "46"
      ]
     },
     "execution_count": 79,
     "metadata": {},
     "output_type": "execute_result"
    }
   ],
   "source": [
    "s1.test(34,5)"
   ]
  },
  {
   "cell_type": "code",
   "execution_count": null,
   "id": "737e4407-9e09-404f-b09a-9bf4ba1dac62",
   "metadata": {},
   "outputs": [],
   "source": [
    "# multiple inheritance ------A class can be dervied from more than one b ase class."
   ]
  },
  {
   "cell_type": "code",
   "execution_count": 124,
   "id": "09b956f0-f181-4324-935c-57dcf411a87b",
   "metadata": {},
   "outputs": [],
   "source": [
    "class A: #base class\n",
    "    def test(self):\n",
    "        print(\"My name is rohi!!\")\n",
    "    "
   ]
  },
  {
   "cell_type": "code",
   "execution_count": 126,
   "id": "a63dfb08-2273-4197-a324-8c8d29c15804",
   "metadata": {},
   "outputs": [],
   "source": [
    "class B: # base class\n",
    "    def test(self):\n",
    "        print(\"My surname is Sharma !!\")"
   ]
  },
  {
   "cell_type": "code",
   "execution_count": 128,
   "id": "51154cf5-ef56-4c7b-98b7-db0fcdc04466",
   "metadata": {},
   "outputs": [
    {
     "name": "stdout",
     "output_type": "stream",
     "text": [
      "My name is rohi!!\n",
      "My surname is Sharma !!\n"
     ]
    }
   ],
   "source": [
    "class C(B,A):  #dervied class\n",
    "    objA=A()\n",
    "    objB=B()\n",
    "    objA.test()\n",
    "    objB.test()\n",
    "    \n",
    "    "
   ]
  },
  {
   "cell_type": "code",
   "execution_count": 130,
   "id": "cca0dc02-1a09-4103-896a-948a1610a271",
   "metadata": {},
   "outputs": [],
   "source": [
    "oC=C()"
   ]
  },
  {
   "cell_type": "code",
   "execution_count": 132,
   "id": "1fb66084-d82f-4d36-96b9-6f804d8e0c7f",
   "metadata": {},
   "outputs": [
    {
     "name": "stdout",
     "output_type": "stream",
     "text": [
      "My surname is Sharma !!\n"
     ]
    }
   ],
   "source": [
    "oC.test()#declaration sequence "
   ]
  },
  {
   "cell_type": "code",
   "execution_count": 134,
   "id": "d25157e2-54f2-4a09-800c-3f29f00591fb",
   "metadata": {},
   "outputs": [],
   "source": [
    "#multilevel inheritance----feature of base class and the derived class are inf=heru=itance into the new derived class"
   ]
  },
  {
   "cell_type": "code",
   "execution_count": 133,
   "id": "16a01f86-a5f8-4533-ad38-d3e815842568",
   "metadata": {},
   "outputs": [
    {
     "name": "stdout",
     "output_type": "stream",
     "text": [
      "Animal Speaking!! \n"
     ]
    }
   ],
   "source": [
    "\n",
    "class Animal:\n",
    "    def speak(self):\n",
    "        print(\"Animal Speaking!! \")\n",
    "class dog(Animal):\n",
    "    def bark(self):\n",
    "        print(\"Dog Barking !! \")\n",
    "d=dog()\n",
    "d.speak()"
   ]
  },
  {
   "cell_type": "code",
   "execution_count": 135,
   "id": "bd47590a-11d6-48f3-8966-168d2cce5d04",
   "metadata": {},
   "outputs": [],
   "source": [
    "class DogChild(dog):\n",
    "    def eat(self):\n",
    "        print(\"Eating Bread\")"
   ]
  },
  {
   "cell_type": "code",
   "execution_count": 137,
   "id": "617ec2c8-5cd6-4c1a-b8f1-8847ec472664",
   "metadata": {},
   "outputs": [],
   "source": [
    "d1=DogChild()"
   ]
  },
  {
   "cell_type": "code",
   "execution_count": 139,
   "id": "d53909a9-153c-48cd-a272-b32bee6638b8",
   "metadata": {},
   "outputs": [
    {
     "name": "stdout",
     "output_type": "stream",
     "text": [
      "Eating Bread\n"
     ]
    }
   ],
   "source": [
    "d1.eat()"
   ]
  },
  {
   "cell_type": "code",
   "execution_count": 1,
   "id": "a788bf4c-ef72-40e3-8cff-5a739089b463",
   "metadata": {},
   "outputs": [],
   "source": [
    "class bank():\n",
    "    def getroi(self):\n",
    "        return 10        "
   ]
  },
  {
   "cell_type": "code",
   "execution_count": 9,
   "id": "8e2a3672-2764-41fc-839e-31c977b04d18",
   "metadata": {},
   "outputs": [],
   "source": [
    "class SBI(bank):\n",
    "    def getroi(self):\n",
    "        return 7    "
   ]
  },
  {
   "cell_type": "code",
   "execution_count": 11,
   "id": "571f2c7a-2474-4411-9d7b-6c5529387245",
   "metadata": {},
   "outputs": [],
   "source": [
    "class ICICS(bank):\n",
    "    def getroi(self):\n",
    "        return 8       "
   ]
  },
  {
   "cell_type": "code",
   "execution_count": 13,
   "id": "61f02dd6-ba71-4142-ba20-c07044c350d2",
   "metadata": {},
   "outputs": [],
   "source": [
    "b1=bank()"
   ]
  },
  {
   "cell_type": "code",
   "execution_count": 15,
   "id": "4db0bb70-813b-4f7d-b539-2943cd405c69",
   "metadata": {},
   "outputs": [],
   "source": [
    "b2=SBI()"
   ]
  },
  {
   "cell_type": "code",
   "execution_count": 17,
   "id": "daa0b031-4f74-4602-81d8-96c12b878f8a",
   "metadata": {},
   "outputs": [],
   "source": [
    "b3=ICICS()"
   ]
  },
  {
   "cell_type": "code",
   "execution_count": 21,
   "id": "456eebbc-a1bb-4930-a6a6-3e99d8d9d541",
   "metadata": {},
   "outputs": [
    {
     "name": "stdout",
     "output_type": "stream",
     "text": [
      "Bank rate of intersert 10\n",
      "Bank rate of intersert 7\n",
      "Bank rate of intersert 8\n"
     ]
    }
   ],
   "source": [
    "print(\"Bank rate of intersert\",b1.getroi())\n",
    "print(\"Bank rate of intersert\",b2.getroi())\n",
    "print(\"Bank rate of intersert\",b3.getroi())"
   ]
  },
  {
   "cell_type": "code",
   "execution_count": 23,
   "id": "bcd37f92-a52f-419e-bea3-e9d93607d3bb",
   "metadata": {},
   "outputs": [],
   "source": [
    "#Encapsulation--- Hiding the implementation/warpping ip of data & method\n"
   ]
  },
  {
   "cell_type": "code",
   "execution_count": 25,
   "id": "fa680f05-c4b5-428e-a2df-d99f12179ecc",
   "metadata": {},
   "outputs": [
    {
     "data": {
      "text/plain": [
       "[10, 11, 12, 13, 14, 15, 16, 17, 18, 19]"
      ]
     },
     "execution_count": 25,
     "metadata": {},
     "output_type": "execute_result"
    }
   ],
   "source": [
    "list(range(10,20))"
   ]
  },
  {
   "cell_type": "code",
   "execution_count": 47,
   "id": "665de8ea-6b76-480c-a787-5da23119637b",
   "metadata": {},
   "outputs": [
    {
     "name": "stdout",
     "output_type": "stream",
     "text": [
      "mrf 56 33\n"
     ]
    }
   ],
   "source": [
    "class tyre:\n",
    "    def __init__(self,branch,baise,opt_pre):\n",
    "        self.branch=branch\n",
    "        self.baise=baise\n",
    "        self.opt_pre=opt_pre\n",
    "    def __str__(self):\n",
    "        return str(self.branch )+\" \"+ str(self.baise) + \" \" +str(self.opt_pre)\n",
    "t=tyre('mrf',56,33) \n",
    "print(t)"
   ]
  },
  {
   "cell_type": "code",
   "execution_count": 45,
   "id": "f9197475-cb7b-4853-ab5e-113512f3f8fa",
   "metadata": {},
   "outputs": [
    {
     "name": "stdout",
     "output_type": "stream",
     "text": [
      "Diesel 55\n"
     ]
    }
   ],
   "source": [
    "class engine:\n",
    "    def __init__(self,fuel_type,noise_level):\n",
    "        self.fuel_type=fuel_type\n",
    "        self.noise_level=noise_level\n",
    "    def __str__(self):\n",
    "        return str(self.fuel_type) + ' ' + str(self.noise_level)\n",
    "e=engine('Diesel',55)\n",
    "print(e)       "
   ]
  },
  {
   "cell_type": "code",
   "execution_count": 50,
   "id": "28e26ccf-6a59-4a14-a636-cb1dfdd3a8dc",
   "metadata": {},
   "outputs": [
    {
     "name": "stdout",
     "output_type": "stream",
     "text": [
      "Body Size is:Medium\n"
     ]
    }
   ],
   "source": [
    "class body:\n",
    "    def __init__(self,body_size):\n",
    "        self.body_size=body_size\n",
    "    def __str__(self):\n",
    "        return \"Body Size is:\" + str(self.body_size)\n",
    "b=body(\"Medium\")  \n",
    "print(b)"
   ]
  },
  {
   "cell_type": "code",
   "execution_count": 60,
   "id": "336658f9-addb-4d4f-a48a-206dd4db390b",
   "metadata": {},
   "outputs": [
    {
     "name": "stdout",
     "output_type": "stream",
     "text": [
      "mrf 56 33 Diesel 55 Body Size is:Medium\n"
     ]
    }
   ],
   "source": [
    "class car:\n",
    "    def __init__(self,t1,e1,b1):\n",
    "        self.t1=t1\n",
    "        self.e1=e1\n",
    "        self.b1=b1\n",
    "    def __str__(self):\n",
    "        return str(self.t1)+ \" \" + str(self.e1) + \" \" +str(self.b1)\n",
    "c=car(t,e,b)\n",
    "print(c)"
   ]
  },
  {
   "cell_type": "code",
   "execution_count": 78,
   "id": "dcbb9d43-fae0-495a-ba9f-7b54397efd60",
   "metadata": {},
   "outputs": [
    {
     "data": {
      "text/plain": [
       "10000"
      ]
     },
     "execution_count": 78,
     "metadata": {},
     "output_type": "execute_result"
    }
   ],
   "source": [
    "class bankacc:\n",
    "    def __init__(self,balance):\n",
    "        self.__balance=balance\n",
    "    def deposit(self,amount):\n",
    "        self.__balance += amount\n",
    "    def withdraw(self,amount):\n",
    "        if self.__balance >= amount:\n",
    "            self.__balance -=  amount\n",
    "        else:\n",
    "            print(\"Insufficient Balance\")\n",
    "    def check_balance(self):\n",
    "        return self.__balance \n",
    "\n",
    "bank=bankacc(10000)\n",
    "bank.check_balance()"
   ]
  },
  {
   "cell_type": "code",
   "execution_count": 80,
   "id": "da529fa3-39aa-4541-a54d-1b26adfe7f5d",
   "metadata": {},
   "outputs": [],
   "source": [
    "bank.deposit(5000)"
   ]
  },
  {
   "cell_type": "code",
   "execution_count": 82,
   "id": "9382241e-b56a-4c5e-b4a2-d41e976e1cce",
   "metadata": {},
   "outputs": [
    {
     "data": {
      "text/plain": [
       "15000"
      ]
     },
     "execution_count": 82,
     "metadata": {},
     "output_type": "execute_result"
    }
   ],
   "source": [
    "bank.check_balance()"
   ]
  },
  {
   "cell_type": "code",
   "execution_count": 84,
   "id": "176fb610-5219-459d-b405-3322c30e1e0f",
   "metadata": {},
   "outputs": [],
   "source": [
    "bank.withdraw(2000)"
   ]
  },
  {
   "cell_type": "code",
   "execution_count": 86,
   "id": "c1dbc11b-f556-4141-b7cf-e36090a9ba5c",
   "metadata": {},
   "outputs": [
    {
     "name": "stdout",
     "output_type": "stream",
     "text": [
      "13000\n"
     ]
    }
   ],
   "source": [
    "print(bank.check_balance())"
   ]
  },
  {
   "cell_type": "code",
   "execution_count": 98,
   "id": "df57acd7-75c3-453f-81dc-6fcf530c75b2",
   "metadata": {},
   "outputs": [],
   "source": [
    "class student:\n",
    "    def __init__(self,name=\"Jagruti\",marks=55):\n",
    "        self.name=name\n",
    "        self.marks=marks\n",
    "s1=student()\n",
    "s2=student(\"gugu\",45)"
   ]
  },
  {
   "cell_type": "code",
   "execution_count": 118,
   "id": "e5b7536b-6e49-415a-8fb7-d76c0fda53e7",
   "metadata": {},
   "outputs": [
    {
     "name": "stdout",
     "output_type": "stream",
     "text": [
      "Name: Jagruti marks: 55 \n",
      "Name: gugu marks: 45 \n"
     ]
    }
   ],
   "source": [
    "print(f\"Name: {s1.name} marks: {s1.marks} \")\n",
    "print(f\"Name: {s2.name} marks: {s2.marks} \")"
   ]
  },
  {
   "cell_type": "code",
   "execution_count": null,
   "id": "df9035c9-5d0b-4a69-8cad-fa18911253ea",
   "metadata": {},
   "outputs": [],
   "source": [
    "## encapusulatuon\n",
    "# 1.composite Encapsulation eg,c=car(t,e,b)\n",
    "# 2.Dynamic Extension eg: c= car(t,e,\"This is our defination\")"
   ]
  },
  {
   "cell_type": "code",
   "execution_count": 120,
   "id": "f4ea9ebe-fae7-492e-8203-c7a8b4b0f604",
   "metadata": {},
   "outputs": [],
   "source": [
    "## Ploymorphism-----"
   ]
  },
  {
   "cell_type": "code",
   "execution_count": 122,
   "id": "ab380a32-b45e-4e5f-9b58-e963e1bf60bf",
   "metadata": {},
   "outputs": [
    {
     "data": {
      "text/plain": [
       "50"
      ]
     },
     "execution_count": 122,
     "metadata": {},
     "output_type": "execute_result"
    }
   ],
   "source": [
    "def add_x(a,b):\n",
    "    return a+b\n",
    "add_x(10,40)"
   ]
  },
  {
   "cell_type": "code",
   "execution_count": 124,
   "id": "0e80af7d-5c84-49a5-b8d8-6cefcfa61b8d",
   "metadata": {},
   "outputs": [
    {
     "data": {
      "text/plain": [
       "[3, 5, 6, 6, 5, 5, 7, 7]"
      ]
     },
     "execution_count": 124,
     "metadata": {},
     "output_type": "execute_result"
    }
   ],
   "source": [
    "add_x([3,5,6,6],[5,5,7,7])"
   ]
  },
  {
   "cell_type": "code",
   "execution_count": 126,
   "id": "60129fd7-e0a7-42f8-980f-07161fbda471",
   "metadata": {},
   "outputs": [],
   "source": [
    "## MethodOverloading"
   ]
  },
  {
   "cell_type": "code",
   "execution_count": 148,
   "id": "32da6661-63c4-4623-b438-c4da1de44f4f",
   "metadata": {},
   "outputs": [],
   "source": [
    "class example:\n",
    "    def __init__(self,X):\n",
    "        self.X=X\n",
    "    def __add__(self,U):\n",
    "        return self.X + U.X"
   ]
  },
  {
   "cell_type": "code",
   "execution_count": 150,
   "id": "339a92ce-708e-42a4-9102-9c3f4fbfa90a",
   "metadata": {},
   "outputs": [
    {
     "name": "stdin",
     "output_type": "stream",
     "text": [
      "Enter the value: 56\n",
      "Enter the value: 78\n"
     ]
    },
    {
     "name": "stdout",
     "output_type": "stream",
     "text": [
      ":  134\n"
     ]
    }
   ],
   "source": [
    "a1=example(int(input(\"Enter the value:\")))\n",
    "a2=example(int(input(\"Enter the value:\")))\n",
    "print(\": \",a1+a2)\n",
    "\n",
    "# a3=example(str(input(print(\"Enter the value:\"))))\n",
    "\n",
    "# a4=example(str(input(print(\"Enter the value:\"))))\n",
    "\n",
    "# print(\" : \",a3+a4)"
   ]
  },
  {
   "cell_type": "code",
   "execution_count": null,
   "id": "acefaff1-134b-46e0-ae63-68d4a47e50cf",
   "metadata": {},
   "outputs": [],
   "source": []
  }
 ],
 "metadata": {
  "kernelspec": {
   "display_name": "Python 3 (ipykernel)",
   "language": "python",
   "name": "python3"
  },
  "language_info": {
   "codemirror_mode": {
    "name": "ipython",
    "version": 3
   },
   "file_extension": ".py",
   "mimetype": "text/x-python",
   "name": "python",
   "nbconvert_exporter": "python",
   "pygments_lexer": "ipython3",
   "version": "3.12.4"
  }
 },
 "nbformat": 4,
 "nbformat_minor": 5
}
